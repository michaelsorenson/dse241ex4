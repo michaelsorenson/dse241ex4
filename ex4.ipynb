{
 "cells": [
  {
   "cell_type": "code",
   "execution_count": null,
   "metadata": {},
   "outputs": [],
   "source": [
    "import pandas as pd\n",
    "import numpy as np\n",
    "import networkx as nx\n",
    "\n",
    "import plotly.graph_objects as go\n",
    "import plotly.express as px\n",
    "import dash\n",
    "import dash_core_components as dcc\n",
    "import dash_html_components as html\n",
    "import dash_bootstrap_components as dbc\n",
    "from dash.dependencies import Input, Output\n",
    "import xml.etree.ElementTree as ET"
   ]
  },
  {
   "cell_type": "code",
   "execution_count": null,
   "metadata": {},
   "outputs": [],
   "source": [
    "sheep_ages = pd.read_csv('sheep_data/sheep_age.csv')\n",
    "sheep_edges = pd.read_csv('sheep_data/sheep_edges.csv')\n"
   ]
  },
  {
   "cell_type": "code",
   "execution_count": null,
   "metadata": {},
   "outputs": [],
   "source": [
    "sheep_network"
   ]
  },
  {
   "cell_type": "code",
   "execution_count": null,
   "metadata": {},
   "outputs": [],
   "source": [
    "def calc_degrees(gph):\n",
    "    degrees = dict(gph.degree)\n",
    "    return degrees\n",
    "\n",
    "def calc_degree_colors(gph):\n",
    "    degrees = calc_degrees(gph)\n",
    "    # colors for degree value\n",
    "    min_degree = min(degrees.values())\n",
    "    max_degree = max(degrees.values())\n",
    "    colors = {node: (degrees[node] - min_degree)/ (max_degree - min_degree) for node in gph.nodes()}\n",
    "    return colors\n",
    "\n",
    "\n",
    "def create_dash_app(gph):\n",
    "    node_degrees = calc_degrees(gph)\n",
    "    deg_min, deg_max = min(node_degrees.values()), max(node_degrees.values())\n",
    "    edge_weights = nx.get_edge_attributes(gph, 'weight')\n",
    "    positions = nx.layout.shell_layout(gph) # spring_layout, random_layout, shell_layout, circular_layout\n",
    "    app = dash.Dash(__name__)\n",
    "    \n",
    "    fig = go.Figure()\n",
    "    for edge in sheep_network.edges():\n",
    "        n1pos = positions[edge[0]]\n",
    "        n2pos = positions[edge[1]]\n",
    "        fig.add_trace(go.Scatter(\n",
    "            x=[n1pos[0], n2pos[0]],\n",
    "            y=[n1pos[1], n2pos[1]],\n",
    "            mode='lines',\n",
    "            line=dict(width=2, color='black')\n",
    "        ))\n",
    "    \n",
    "    node_degs = []\n",
    "    node_sizes = []\n",
    "    pos_x = []\n",
    "    pos_y = []\n",
    "    for node in gph.nodes():\n",
    "        node_degs.append(node_degrees[node])\n",
    "        scaled_degree = (node_degrees[node] - deg_min) / (deg_max - deg_min)\n",
    "        node_sizes.append(5 + 20 * scaled_degree) # scale size of nodes to range [5, 25]\n",
    "        pos = positions[node]\n",
    "        pos_x.append(pos[0])\n",
    "        pos_y.append(pos[1])\n",
    "    node_df = {\n",
    "        'Node': gph.nodes(),\n",
    "        'Degree': node_degs,\n",
    "        'Size': node_sizes,\n",
    "        'x': pos_x,\n",
    "        'y': pos_y,\n",
    "        \n",
    "    }\n",
    "    \n",
    "    px_nodes = px.scatter(\n",
    "        node_df,\n",
    "        x='x',\n",
    "        y='y',\n",
    "        size='Size',\n",
    "        color='Degree',\n",
    "        color_continuous_scale ='thermal',\n",
    "        hover_name='Node'\n",
    "        hover_data={'Degree': True, 'Size': False, 'x': False, 'y': False}\n",
    "        #hoverinfo='text',\n",
    "        #text=f'Node {node}, Degree {gph.degree[node]}'\n",
    "    )\n",
    "    fig.add_trace(px_nodes.data[0])\n",
    "\n",
    "    fig.update_layout(\n",
    "        showlegend=False,\n",
    "        hovermode='closest'\n",
    "    )\n",
    "    \n",
    "    app.layout = dbc.Container([\n",
    "        html.H1(\"Sheep Network Node Links and Degrees\", className=\"mt-4 mb-4\"),\n",
    "        dcc.Graph(figure=fig)\n",
    "    ])\n",
    "    return app\n",
    "\n",
    "if __name__ == '__main__':\n",
    "    sheep_network = nx.read_graphml('sheep_data/sheep_ml.graphml')\n",
    "    app = create_dash_app(sheep_network)\n",
    "    app.run_server(debug=True)\n",
    "\n",
    "sheep_network = nx.read_graphml('sheep_data/sheep_ml.graphml')\n",
    "app = create_dash_app(sheep_network)\n",
    "app.run_server(debug=True)"
   ]
  },
  {
   "cell_type": "code",
   "execution_count": null,
   "metadata": {},
   "outputs": [],
   "source": [
    "app"
   ]
  },
  {
   "cell_type": "code",
   "execution_count": null,
   "metadata": {},
   "outputs": [],
   "source": []
  }
 ],
 "metadata": {
  "kernelspec": {
   "display_name": "Python 3",
   "language": "python",
   "name": "python3"
  },
  "language_info": {
   "codemirror_mode": {
    "name": "ipython",
    "version": 3
   },
   "file_extension": ".py",
   "mimetype": "text/x-python",
   "name": "python",
   "nbconvert_exporter": "python",
   "pygments_lexer": "ipython3",
   "version": "3.8.5"
  },
  "varInspector": {
   "cols": {
    "lenName": 16,
    "lenType": 16,
    "lenVar": 40
   },
   "kernels_config": {
    "python": {
     "delete_cmd_postfix": "",
     "delete_cmd_prefix": "del ",
     "library": "var_list.py",
     "varRefreshCmd": "print(var_dic_list())"
    },
    "r": {
     "delete_cmd_postfix": ") ",
     "delete_cmd_prefix": "rm(",
     "library": "var_list.r",
     "varRefreshCmd": "cat(var_dic_list()) "
    }
   },
   "types_to_exclude": [
    "module",
    "function",
    "builtin_function_or_method",
    "instance",
    "_Feature"
   ],
   "window_display": false
  }
 },
 "nbformat": 4,
 "nbformat_minor": 4
}
